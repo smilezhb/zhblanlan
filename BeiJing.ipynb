{
 "cells": [
  {
   "cell_type": "markdown",
   "metadata": {},
   "source": [
    "# 1.导入需要的模块"
   ]
  },
  {
   "cell_type": "code",
   "execution_count": 1,
   "metadata": {},
   "outputs": [],
   "source": [
    "import pandas as pd\n",
    "import numpy as np"
   ]
  },
  {
   "cell_type": "markdown",
   "metadata": {},
   "source": [
    "# 2、读取数据"
   ]
  },
  {
   "cell_type": "code",
   "execution_count": 2,
   "metadata": {},
   "outputs": [
    {
     "name": "stderr",
     "output_type": "stream",
     "text": [
      "D:\\Anaconda\\lib\\site-packages\\IPython\\core\\interactiveshell.py:3146: DtypeWarning: Columns (1,11,12,14,15,16) have mixed types.Specify dtype option on import or set low_memory=False.\n",
      "  has_raised = await self.run_ast_nodes(code_ast.body, cell_name,\n"
     ]
    }
   ],
   "source": [
    "data = pd.read_csv('beijing.csv')"
   ]
  },
  {
   "cell_type": "markdown",
   "metadata": {},
   "source": [
    "# 3、数据分析 & 数据探索"
   ]
  },
  {
   "cell_type": "code",
   "execution_count": 3,
   "metadata": {},
   "outputs": [
    {
     "data": {
      "text/html": [
       "<div>\n",
       "<style scoped>\n",
       "    .dataframe tbody tr th:only-of-type {\n",
       "        vertical-align: middle;\n",
       "    }\n",
       "\n",
       "    .dataframe tbody tr th {\n",
       "        vertical-align: top;\n",
       "    }\n",
       "\n",
       "    .dataframe thead th {\n",
       "        text-align: right;\n",
       "    }\n",
       "</style>\n",
       "<table border=\"1\" class=\"dataframe\">\n",
       "  <thead>\n",
       "    <tr style=\"text-align: right;\">\n",
       "      <th></th>\n",
       "      <th>url</th>\n",
       "      <th>id</th>\n",
       "      <th>Lng</th>\n",
       "      <th>Lat</th>\n",
       "      <th>Cid</th>\n",
       "      <th>tradeTime</th>\n",
       "      <th>DOM</th>\n",
       "      <th>followers</th>\n",
       "      <th>totalPrice</th>\n",
       "      <th>price</th>\n",
       "      <th>...</th>\n",
       "      <th>floor</th>\n",
       "      <th>constructionTime</th>\n",
       "      <th>renovationCondition</th>\n",
       "      <th>buildingStructure</th>\n",
       "      <th>ladderRatio</th>\n",
       "      <th>elevator</th>\n",
       "      <th>fiveYearsProperty</th>\n",
       "      <th>subway</th>\n",
       "      <th>district</th>\n",
       "      <th>communityAverage</th>\n",
       "    </tr>\n",
       "  </thead>\n",
       "  <tbody>\n",
       "    <tr>\n",
       "      <th>0</th>\n",
       "      <td>https://bj.lianjia.com/chengjiao/101084782030....</td>\n",
       "      <td>101000000000.0</td>\n",
       "      <td>116.475489</td>\n",
       "      <td>40.019520</td>\n",
       "      <td>1.110000e+12</td>\n",
       "      <td>2016/8/9</td>\n",
       "      <td>1464.0</td>\n",
       "      <td>106</td>\n",
       "      <td>415.0</td>\n",
       "      <td>31680</td>\n",
       "      <td>...</td>\n",
       "      <td>26</td>\n",
       "      <td>2005</td>\n",
       "      <td>3</td>\n",
       "      <td>6</td>\n",
       "      <td>0.217</td>\n",
       "      <td>1.0</td>\n",
       "      <td>0.0</td>\n",
       "      <td>1.0</td>\n",
       "      <td>7</td>\n",
       "      <td>56021.0</td>\n",
       "    </tr>\n",
       "    <tr>\n",
       "      <th>1</th>\n",
       "      <td>https://bj.lianjia.com/chengjiao/101086012217....</td>\n",
       "      <td>101000000000.0</td>\n",
       "      <td>116.453917</td>\n",
       "      <td>39.881534</td>\n",
       "      <td>1.110000e+12</td>\n",
       "      <td>2016/7/28</td>\n",
       "      <td>903.0</td>\n",
       "      <td>126</td>\n",
       "      <td>575.0</td>\n",
       "      <td>43436</td>\n",
       "      <td>...</td>\n",
       "      <td>22</td>\n",
       "      <td>2004</td>\n",
       "      <td>4</td>\n",
       "      <td>6</td>\n",
       "      <td>0.667</td>\n",
       "      <td>1.0</td>\n",
       "      <td>1.0</td>\n",
       "      <td>0.0</td>\n",
       "      <td>7</td>\n",
       "      <td>71539.0</td>\n",
       "    </tr>\n",
       "    <tr>\n",
       "      <th>2</th>\n",
       "      <td>https://bj.lianjia.com/chengjiao/101086041636....</td>\n",
       "      <td>101000000000.0</td>\n",
       "      <td>116.561978</td>\n",
       "      <td>39.877145</td>\n",
       "      <td>1.110000e+12</td>\n",
       "      <td>2016/12/11</td>\n",
       "      <td>1271.0</td>\n",
       "      <td>48</td>\n",
       "      <td>1030.0</td>\n",
       "      <td>52021</td>\n",
       "      <td>...</td>\n",
       "      <td>4</td>\n",
       "      <td>2005</td>\n",
       "      <td>3</td>\n",
       "      <td>6</td>\n",
       "      <td>0.500</td>\n",
       "      <td>1.0</td>\n",
       "      <td>0.0</td>\n",
       "      <td>0.0</td>\n",
       "      <td>7</td>\n",
       "      <td>48160.0</td>\n",
       "    </tr>\n",
       "    <tr>\n",
       "      <th>3</th>\n",
       "      <td>https://bj.lianjia.com/chengjiao/101086406841....</td>\n",
       "      <td>101000000000.0</td>\n",
       "      <td>116.438010</td>\n",
       "      <td>40.076114</td>\n",
       "      <td>1.110000e+12</td>\n",
       "      <td>2016/9/30</td>\n",
       "      <td>965.0</td>\n",
       "      <td>138</td>\n",
       "      <td>297.5</td>\n",
       "      <td>22202</td>\n",
       "      <td>...</td>\n",
       "      <td>21</td>\n",
       "      <td>2008</td>\n",
       "      <td>1</td>\n",
       "      <td>6</td>\n",
       "      <td>0.273</td>\n",
       "      <td>1.0</td>\n",
       "      <td>0.0</td>\n",
       "      <td>0.0</td>\n",
       "      <td>6</td>\n",
       "      <td>51238.0</td>\n",
       "    </tr>\n",
       "    <tr>\n",
       "      <th>4</th>\n",
       "      <td>https://bj.lianjia.com/chengjiao/101086920653....</td>\n",
       "      <td>101000000000.0</td>\n",
       "      <td>116.428392</td>\n",
       "      <td>39.886229</td>\n",
       "      <td>1.110000e+12</td>\n",
       "      <td>2016/8/28</td>\n",
       "      <td>927.0</td>\n",
       "      <td>286</td>\n",
       "      <td>392.0</td>\n",
       "      <td>48396</td>\n",
       "      <td>...</td>\n",
       "      <td>6</td>\n",
       "      <td>1960</td>\n",
       "      <td>2</td>\n",
       "      <td>2</td>\n",
       "      <td>0.333</td>\n",
       "      <td>0.0</td>\n",
       "      <td>1.0</td>\n",
       "      <td>1.0</td>\n",
       "      <td>1</td>\n",
       "      <td>62588.0</td>\n",
       "    </tr>\n",
       "  </tbody>\n",
       "</table>\n",
       "<p>5 rows × 25 columns</p>\n",
       "</div>"
      ],
      "text/plain": [
       "                                                 url              id  \\\n",
       "0  https://bj.lianjia.com/chengjiao/101084782030....  101000000000.0   \n",
       "1  https://bj.lianjia.com/chengjiao/101086012217....  101000000000.0   \n",
       "2  https://bj.lianjia.com/chengjiao/101086041636....  101000000000.0   \n",
       "3  https://bj.lianjia.com/chengjiao/101086406841....  101000000000.0   \n",
       "4  https://bj.lianjia.com/chengjiao/101086920653....  101000000000.0   \n",
       "\n",
       "          Lng        Lat           Cid   tradeTime     DOM  followers  \\\n",
       "0  116.475489  40.019520  1.110000e+12    2016/8/9  1464.0        106   \n",
       "1  116.453917  39.881534  1.110000e+12   2016/7/28   903.0        126   \n",
       "2  116.561978  39.877145  1.110000e+12  2016/12/11  1271.0         48   \n",
       "3  116.438010  40.076114  1.110000e+12   2016/9/30   965.0        138   \n",
       "4  116.428392  39.886229  1.110000e+12   2016/8/28   927.0        286   \n",
       "\n",
       "   totalPrice  price  ...  floor constructionTime renovationCondition  \\\n",
       "0       415.0  31680  ...     26             2005                   3   \n",
       "1       575.0  43436  ...     22             2004                   4   \n",
       "2      1030.0  52021  ...      4             2005                   3   \n",
       "3       297.5  22202  ...     21             2008                   1   \n",
       "4       392.0  48396  ...      6             1960                   2   \n",
       "\n",
       "   buildingStructure ladderRatio elevator fiveYearsProperty  subway  district  \\\n",
       "0                  6       0.217      1.0               0.0     1.0         7   \n",
       "1                  6       0.667      1.0               1.0     0.0         7   \n",
       "2                  6       0.500      1.0               0.0     0.0         7   \n",
       "3                  6       0.273      1.0               0.0     0.0         6   \n",
       "4                  2       0.333      0.0               1.0     1.0         1   \n",
       "\n",
       "   communityAverage  \n",
       "0           56021.0  \n",
       "1           71539.0  \n",
       "2           48160.0  \n",
       "3           51238.0  \n",
       "4           62588.0  \n",
       "\n",
       "[5 rows x 25 columns]"
      ]
     },
     "execution_count": 3,
     "metadata": {},
     "output_type": "execute_result"
    }
   ],
   "source": [
    "# 查看前五行数据\n",
    "data.head() "
   ]
  },
  {
   "cell_type": "code",
   "execution_count": 4,
   "metadata": {},
   "outputs": [
    {
     "name": "stdout",
     "output_type": "stream",
     "text": [
      "<class 'pandas.core.frame.DataFrame'>\n",
      "RangeIndex: 317032 entries, 0 to 317031\n",
      "Data columns (total 25 columns):\n",
      " #   Column               Non-Null Count   Dtype  \n",
      "---  ------               --------------   -----  \n",
      " 0   url                  317032 non-null  object \n",
      " 1   id                   317032 non-null  object \n",
      " 2   Lng                  317032 non-null  float64\n",
      " 3   Lat                  317032 non-null  float64\n",
      " 4   Cid                  317032 non-null  float64\n",
      " 5   tradeTime            317032 non-null  object \n",
      " 6   DOM                  159398 non-null  float64\n",
      " 7   followers            317032 non-null  int64  \n",
      " 8   totalPrice           317032 non-null  float64\n",
      " 9   price                317032 non-null  int64  \n",
      " 10  square               317032 non-null  float64\n",
      " 11  livingRoom           317032 non-null  object \n",
      " 12  drawingRoom          317032 non-null  object \n",
      " 13  kitchen              317032 non-null  int64  \n",
      " 14  bathRoom             317032 non-null  object \n",
      " 15  floor                317032 non-null  object \n",
      " 16  constructionTime     317032 non-null  object \n",
      " 17  renovationCondition  317032 non-null  int64  \n",
      " 18  buildingStructure    317032 non-null  int64  \n",
      " 19  ladderRatio          317032 non-null  float64\n",
      " 20  elevator             317000 non-null  float64\n",
      " 21  fiveYearsProperty    317000 non-null  float64\n",
      " 22  subway               317000 non-null  float64\n",
      " 23  district             317032 non-null  int64  \n",
      " 24  communityAverage     316589 non-null  float64\n",
      "dtypes: float64(11), int64(6), object(8)\n",
      "memory usage: 60.5+ MB\n"
     ]
    }
   ],
   "source": [
    "# 查看每个字段的情况：类型、是否为空\n",
    "data.info() "
   ]
  },
  {
   "cell_type": "code",
   "execution_count": 5,
   "metadata": {},
   "outputs": [
    {
     "data": {
      "text/plain": [
       "url                         0\n",
       "id                          0\n",
       "Lng                         0\n",
       "Lat                         0\n",
       "Cid                         0\n",
       "tradeTime                   0\n",
       "DOM                    157634\n",
       "followers                   0\n",
       "totalPrice                  0\n",
       "price                       0\n",
       "square                      0\n",
       "livingRoom                  0\n",
       "drawingRoom                 0\n",
       "kitchen                     0\n",
       "bathRoom                    0\n",
       "floor                       0\n",
       "constructionTime            0\n",
       "renovationCondition         0\n",
       "buildingStructure           0\n",
       "ladderRatio                 0\n",
       "elevator                   32\n",
       "fiveYearsProperty          32\n",
       "subway                     32\n",
       "district                    0\n",
       "communityAverage          443\n",
       "dtype: int64"
      ]
     },
     "execution_count": 5,
     "metadata": {},
     "output_type": "execute_result"
    }
   ],
   "source": [
    "# 统计每列的空值情况\n",
    "data.isnull().sum()"
   ]
  },
  {
   "cell_type": "code",
   "execution_count": 6,
   "metadata": {},
   "outputs": [
    {
     "data": {
      "text/html": [
       "<div>\n",
       "<style scoped>\n",
       "    .dataframe tbody tr th:only-of-type {\n",
       "        vertical-align: middle;\n",
       "    }\n",
       "\n",
       "    .dataframe tbody tr th {\n",
       "        vertical-align: top;\n",
       "    }\n",
       "\n",
       "    .dataframe thead th {\n",
       "        text-align: right;\n",
       "    }\n",
       "</style>\n",
       "<table border=\"1\" class=\"dataframe\">\n",
       "  <thead>\n",
       "    <tr style=\"text-align: right;\">\n",
       "      <th></th>\n",
       "      <th>Lng</th>\n",
       "      <th>Lat</th>\n",
       "      <th>Cid</th>\n",
       "      <th>DOM</th>\n",
       "      <th>followers</th>\n",
       "      <th>totalPrice</th>\n",
       "      <th>price</th>\n",
       "      <th>square</th>\n",
       "      <th>kitchen</th>\n",
       "      <th>renovationCondition</th>\n",
       "      <th>buildingStructure</th>\n",
       "      <th>ladderRatio</th>\n",
       "      <th>elevator</th>\n",
       "      <th>fiveYearsProperty</th>\n",
       "      <th>subway</th>\n",
       "      <th>district</th>\n",
       "      <th>communityAverage</th>\n",
       "    </tr>\n",
       "  </thead>\n",
       "  <tbody>\n",
       "    <tr>\n",
       "      <th>count</th>\n",
       "      <td>317032.000000</td>\n",
       "      <td>317032.000000</td>\n",
       "      <td>3.170320e+05</td>\n",
       "      <td>159398.000000</td>\n",
       "      <td>317032.000000</td>\n",
       "      <td>317032.000000</td>\n",
       "      <td>317032.000000</td>\n",
       "      <td>317032.000000</td>\n",
       "      <td>317032.00000</td>\n",
       "      <td>317032.000000</td>\n",
       "      <td>317032.000000</td>\n",
       "      <td>3.170320e+05</td>\n",
       "      <td>317000.000000</td>\n",
       "      <td>317000.000000</td>\n",
       "      <td>317000.000000</td>\n",
       "      <td>317032.000000</td>\n",
       "      <td>316589.000000</td>\n",
       "    </tr>\n",
       "    <tr>\n",
       "      <th>mean</th>\n",
       "      <td>116.418528</td>\n",
       "      <td>39.949550</td>\n",
       "      <td>1.124672e+12</td>\n",
       "      <td>28.595108</td>\n",
       "      <td>16.692088</td>\n",
       "      <td>348.758345</td>\n",
       "      <td>43506.118386</td>\n",
       "      <td>83.207654</td>\n",
       "      <td>0.99465</td>\n",
       "      <td>2.605011</td>\n",
       "      <td>4.450762</td>\n",
       "      <td>6.352511e+01</td>\n",
       "      <td>0.576874</td>\n",
       "      <td>0.646972</td>\n",
       "      <td>0.601240</td>\n",
       "      <td>6.765011</td>\n",
       "      <td>63709.832177</td>\n",
       "    </tr>\n",
       "    <tr>\n",
       "      <th>std</th>\n",
       "      <td>0.112039</td>\n",
       "      <td>0.091805</td>\n",
       "      <td>1.306165e+12</td>\n",
       "      <td>50.060555</td>\n",
       "      <td>34.192922</td>\n",
       "      <td>230.345568</td>\n",
       "      <td>21667.545297</td>\n",
       "      <td>37.165395</td>\n",
       "      <td>0.10912</td>\n",
       "      <td>1.311791</td>\n",
       "      <td>1.901556</td>\n",
       "      <td>2.514032e+04</td>\n",
       "      <td>0.494056</td>\n",
       "      <td>0.477912</td>\n",
       "      <td>0.489644</td>\n",
       "      <td>2.812806</td>\n",
       "      <td>22314.188790</td>\n",
       "    </tr>\n",
       "    <tr>\n",
       "      <th>min</th>\n",
       "      <td>116.072514</td>\n",
       "      <td>39.627030</td>\n",
       "      <td>1.110000e+12</td>\n",
       "      <td>1.000000</td>\n",
       "      <td>0.000000</td>\n",
       "      <td>0.100000</td>\n",
       "      <td>1.000000</td>\n",
       "      <td>6.900000</td>\n",
       "      <td>0.00000</td>\n",
       "      <td>0.000000</td>\n",
       "      <td>0.000000</td>\n",
       "      <td>0.000000e+00</td>\n",
       "      <td>0.000000</td>\n",
       "      <td>0.000000</td>\n",
       "      <td>0.000000</td>\n",
       "      <td>1.000000</td>\n",
       "      <td>10847.000000</td>\n",
       "    </tr>\n",
       "    <tr>\n",
       "      <th>25%</th>\n",
       "      <td>116.345081</td>\n",
       "      <td>39.893200</td>\n",
       "      <td>1.110000e+12</td>\n",
       "      <td>1.000000</td>\n",
       "      <td>0.000000</td>\n",
       "      <td>205.000000</td>\n",
       "      <td>28057.000000</td>\n",
       "      <td>57.900000</td>\n",
       "      <td>1.00000</td>\n",
       "      <td>1.000000</td>\n",
       "      <td>2.000000</td>\n",
       "      <td>2.500000e-01</td>\n",
       "      <td>0.000000</td>\n",
       "      <td>0.000000</td>\n",
       "      <td>0.000000</td>\n",
       "      <td>6.000000</td>\n",
       "      <td>46352.000000</td>\n",
       "    </tr>\n",
       "    <tr>\n",
       "      <th>50%</th>\n",
       "      <td>116.416780</td>\n",
       "      <td>39.934527</td>\n",
       "      <td>1.110000e+12</td>\n",
       "      <td>6.000000</td>\n",
       "      <td>5.000000</td>\n",
       "      <td>293.900000</td>\n",
       "      <td>38721.000000</td>\n",
       "      <td>74.220000</td>\n",
       "      <td>1.00000</td>\n",
       "      <td>3.000000</td>\n",
       "      <td>6.000000</td>\n",
       "      <td>3.330000e-01</td>\n",
       "      <td>1.000000</td>\n",
       "      <td>1.000000</td>\n",
       "      <td>1.000000</td>\n",
       "      <td>7.000000</td>\n",
       "      <td>59021.000000</td>\n",
       "    </tr>\n",
       "    <tr>\n",
       "      <th>75%</th>\n",
       "      <td>116.477581</td>\n",
       "      <td>40.002876</td>\n",
       "      <td>1.110000e+12</td>\n",
       "      <td>36.000000</td>\n",
       "      <td>18.000000</td>\n",
       "      <td>425.000000</td>\n",
       "      <td>53757.000000</td>\n",
       "      <td>98.680000</td>\n",
       "      <td>1.00000</td>\n",
       "      <td>4.000000</td>\n",
       "      <td>6.000000</td>\n",
       "      <td>5.000000e-01</td>\n",
       "      <td>1.000000</td>\n",
       "      <td>1.000000</td>\n",
       "      <td>1.000000</td>\n",
       "      <td>8.000000</td>\n",
       "      <td>75993.000000</td>\n",
       "    </tr>\n",
       "    <tr>\n",
       "      <th>max</th>\n",
       "      <td>116.732378</td>\n",
       "      <td>40.252758</td>\n",
       "      <td>1.180000e+14</td>\n",
       "      <td>1677.000000</td>\n",
       "      <td>1143.000000</td>\n",
       "      <td>18130.000000</td>\n",
       "      <td>156250.000000</td>\n",
       "      <td>1745.500000</td>\n",
       "      <td>4.00000</td>\n",
       "      <td>4.000000</td>\n",
       "      <td>6.000000</td>\n",
       "      <td>1.000940e+07</td>\n",
       "      <td>1.000000</td>\n",
       "      <td>1.000000</td>\n",
       "      <td>1.000000</td>\n",
       "      <td>13.000000</td>\n",
       "      <td>183109.000000</td>\n",
       "    </tr>\n",
       "  </tbody>\n",
       "</table>\n",
       "</div>"
      ],
      "text/plain": [
       "                 Lng            Lat           Cid            DOM  \\\n",
       "count  317032.000000  317032.000000  3.170320e+05  159398.000000   \n",
       "mean      116.418528      39.949550  1.124672e+12      28.595108   \n",
       "std         0.112039       0.091805  1.306165e+12      50.060555   \n",
       "min       116.072514      39.627030  1.110000e+12       1.000000   \n",
       "25%       116.345081      39.893200  1.110000e+12       1.000000   \n",
       "50%       116.416780      39.934527  1.110000e+12       6.000000   \n",
       "75%       116.477581      40.002876  1.110000e+12      36.000000   \n",
       "max       116.732378      40.252758  1.180000e+14    1677.000000   \n",
       "\n",
       "           followers     totalPrice          price         square  \\\n",
       "count  317032.000000  317032.000000  317032.000000  317032.000000   \n",
       "mean       16.692088     348.758345   43506.118386      83.207654   \n",
       "std        34.192922     230.345568   21667.545297      37.165395   \n",
       "min         0.000000       0.100000       1.000000       6.900000   \n",
       "25%         0.000000     205.000000   28057.000000      57.900000   \n",
       "50%         5.000000     293.900000   38721.000000      74.220000   \n",
       "75%        18.000000     425.000000   53757.000000      98.680000   \n",
       "max      1143.000000   18130.000000  156250.000000    1745.500000   \n",
       "\n",
       "            kitchen  renovationCondition  buildingStructure   ladderRatio  \\\n",
       "count  317032.00000        317032.000000      317032.000000  3.170320e+05   \n",
       "mean        0.99465             2.605011           4.450762  6.352511e+01   \n",
       "std         0.10912             1.311791           1.901556  2.514032e+04   \n",
       "min         0.00000             0.000000           0.000000  0.000000e+00   \n",
       "25%         1.00000             1.000000           2.000000  2.500000e-01   \n",
       "50%         1.00000             3.000000           6.000000  3.330000e-01   \n",
       "75%         1.00000             4.000000           6.000000  5.000000e-01   \n",
       "max         4.00000             4.000000           6.000000  1.000940e+07   \n",
       "\n",
       "            elevator  fiveYearsProperty         subway       district  \\\n",
       "count  317000.000000      317000.000000  317000.000000  317032.000000   \n",
       "mean        0.576874           0.646972       0.601240       6.765011   \n",
       "std         0.494056           0.477912       0.489644       2.812806   \n",
       "min         0.000000           0.000000       0.000000       1.000000   \n",
       "25%         0.000000           0.000000       0.000000       6.000000   \n",
       "50%         1.000000           1.000000       1.000000       7.000000   \n",
       "75%         1.000000           1.000000       1.000000       8.000000   \n",
       "max         1.000000           1.000000       1.000000      13.000000   \n",
       "\n",
       "       communityAverage  \n",
       "count     316589.000000  \n",
       "mean       63709.832177  \n",
       "std        22314.188790  \n",
       "min        10847.000000  \n",
       "25%        46352.000000  \n",
       "50%        59021.000000  \n",
       "75%        75993.000000  \n",
       "max       183109.000000  "
      ]
     },
     "execution_count": 6,
     "metadata": {},
     "output_type": "execute_result"
    }
   ],
   "source": [
    "# 获取数据描述信息：非空行数、均值、标准差、最小值、最大值等\n",
    "data.describe()"
   ]
  },
  {
   "cell_type": "code",
   "execution_count": 7,
   "metadata": {},
   "outputs": [
    {
     "data": {
      "text/html": [
       "<div>\n",
       "<style scoped>\n",
       "    .dataframe tbody tr th:only-of-type {\n",
       "        vertical-align: middle;\n",
       "    }\n",
       "\n",
       "    .dataframe tbody tr th {\n",
       "        vertical-align: top;\n",
       "    }\n",
       "\n",
       "    .dataframe thead th {\n",
       "        text-align: right;\n",
       "    }\n",
       "</style>\n",
       "<table border=\"1\" class=\"dataframe\">\n",
       "  <thead>\n",
       "    <tr style=\"text-align: right;\">\n",
       "      <th></th>\n",
       "      <th>square</th>\n",
       "      <th>district</th>\n",
       "      <th>followers</th>\n",
       "      <th>buildingStructure</th>\n",
       "      <th>tradeTime</th>\n",
       "      <th>constructionTime</th>\n",
       "      <th>price</th>\n",
       "      <th>totalPrice</th>\n",
       "    </tr>\n",
       "  </thead>\n",
       "  <tbody>\n",
       "    <tr>\n",
       "      <th>0</th>\n",
       "      <td>131.00</td>\n",
       "      <td>7</td>\n",
       "      <td>106</td>\n",
       "      <td>6</td>\n",
       "      <td>2016/8/9</td>\n",
       "      <td>2005</td>\n",
       "      <td>31680</td>\n",
       "      <td>415.0</td>\n",
       "    </tr>\n",
       "    <tr>\n",
       "      <th>1</th>\n",
       "      <td>132.38</td>\n",
       "      <td>7</td>\n",
       "      <td>126</td>\n",
       "      <td>6</td>\n",
       "      <td>2016/7/28</td>\n",
       "      <td>2004</td>\n",
       "      <td>43436</td>\n",
       "      <td>575.0</td>\n",
       "    </tr>\n",
       "    <tr>\n",
       "      <th>2</th>\n",
       "      <td>198.00</td>\n",
       "      <td>7</td>\n",
       "      <td>48</td>\n",
       "      <td>6</td>\n",
       "      <td>2016/12/11</td>\n",
       "      <td>2005</td>\n",
       "      <td>52021</td>\n",
       "      <td>1030.0</td>\n",
       "    </tr>\n",
       "    <tr>\n",
       "      <th>3</th>\n",
       "      <td>134.00</td>\n",
       "      <td>6</td>\n",
       "      <td>138</td>\n",
       "      <td>6</td>\n",
       "      <td>2016/9/30</td>\n",
       "      <td>2008</td>\n",
       "      <td>22202</td>\n",
       "      <td>297.5</td>\n",
       "    </tr>\n",
       "    <tr>\n",
       "      <th>4</th>\n",
       "      <td>81.00</td>\n",
       "      <td>1</td>\n",
       "      <td>286</td>\n",
       "      <td>2</td>\n",
       "      <td>2016/8/28</td>\n",
       "      <td>1960</td>\n",
       "      <td>48396</td>\n",
       "      <td>392.0</td>\n",
       "    </tr>\n",
       "    <tr>\n",
       "      <th>...</th>\n",
       "      <td>...</td>\n",
       "      <td>...</td>\n",
       "      <td>...</td>\n",
       "      <td>...</td>\n",
       "      <td>...</td>\n",
       "      <td>...</td>\n",
       "      <td>...</td>\n",
       "      <td>...</td>\n",
       "    </tr>\n",
       "    <tr>\n",
       "      <th>317027</th>\n",
       "      <td>134.20</td>\n",
       "      <td>3</td>\n",
       "      <td>8</td>\n",
       "      <td>6</td>\n",
       "      <td>2016/6/9</td>\n",
       "      <td>2009</td>\n",
       "      <td>26491</td>\n",
       "      <td>355.5</td>\n",
       "    </tr>\n",
       "    <tr>\n",
       "      <th>317028</th>\n",
       "      <td>170.07</td>\n",
       "      <td>3</td>\n",
       "      <td>8</td>\n",
       "      <td>6</td>\n",
       "      <td>2016/6/10</td>\n",
       "      <td>2003</td>\n",
       "      <td>20580</td>\n",
       "      <td>350.0</td>\n",
       "    </tr>\n",
       "    <tr>\n",
       "      <th>317029</th>\n",
       "      <td>35.09</td>\n",
       "      <td>3</td>\n",
       "      <td>1</td>\n",
       "      <td>6</td>\n",
       "      <td>2016/6/10</td>\n",
       "      <td>2009</td>\n",
       "      <td>31006</td>\n",
       "      <td>108.8</td>\n",
       "    </tr>\n",
       "    <tr>\n",
       "      <th>317030</th>\n",
       "      <td>102.17</td>\n",
       "      <td>3</td>\n",
       "      <td>2</td>\n",
       "      <td>6</td>\n",
       "      <td>2016/6/5</td>\n",
       "      <td>2000</td>\n",
       "      <td>35138</td>\n",
       "      <td>359.0</td>\n",
       "    </tr>\n",
       "    <tr>\n",
       "      <th>317031</th>\n",
       "      <td>178.34</td>\n",
       "      <td>3</td>\n",
       "      <td>4</td>\n",
       "      <td>2</td>\n",
       "      <td>2016/6/12</td>\n",
       "      <td>2003</td>\n",
       "      <td>40373</td>\n",
       "      <td>720.0</td>\n",
       "    </tr>\n",
       "  </tbody>\n",
       "</table>\n",
       "<p>317032 rows × 8 columns</p>\n",
       "</div>"
      ],
      "text/plain": [
       "        square  district  followers  buildingStructure   tradeTime  \\\n",
       "0       131.00         7        106                  6    2016/8/9   \n",
       "1       132.38         7        126                  6   2016/7/28   \n",
       "2       198.00         7         48                  6  2016/12/11   \n",
       "3       134.00         6        138                  6   2016/9/30   \n",
       "4        81.00         1        286                  2   2016/8/28   \n",
       "...        ...       ...        ...                ...         ...   \n",
       "317027  134.20         3          8                  6    2016/6/9   \n",
       "317028  170.07         3          8                  6   2016/6/10   \n",
       "317029   35.09         3          1                  6   2016/6/10   \n",
       "317030  102.17         3          2                  6    2016/6/5   \n",
       "317031  178.34         3          4                  2   2016/6/12   \n",
       "\n",
       "       constructionTime  price  totalPrice  \n",
       "0                  2005  31680       415.0  \n",
       "1                  2004  43436       575.0  \n",
       "2                  2005  52021      1030.0  \n",
       "3                  2008  22202       297.5  \n",
       "4                  1960  48396       392.0  \n",
       "...                 ...    ...         ...  \n",
       "317027             2009  26491       355.5  \n",
       "317028             2003  20580       350.0  \n",
       "317029             2009  31006       108.8  \n",
       "317030             2000  35138       359.0  \n",
       "317031             2003  40373       720.0  \n",
       "\n",
       "[317032 rows x 8 columns]"
      ]
     },
     "execution_count": 7,
     "metadata": {},
     "output_type": "execute_result"
    }
   ],
   "source": [
    "# 查看特定列的数据\n",
    "data[['square','district','followers','buildingStructure','tradeTime','constructionTime','price','totalPrice']]"
   ]
  },
  {
   "cell_type": "markdown",
   "metadata": {},
   "source": [
    "# 4、数据可视化"
   ]
  },
  {
   "cell_type": "code",
   "execution_count": 8,
   "metadata": {},
   "outputs": [
    {
     "data": {
      "image/png": "[encoded data removed]",
      "text/plain": [
       "<Figure size 432x288 with 2 Axes>"
      ]
     },
     "metadata": {
      "needs_background": "light"
     },
     "output_type": "display_data"
    }
   ],
   "source": [
    "import matplotlib.pyplot as plt\n",
    "cols = ['square','price']\n",
    "fig,axes = plt.subplots(1,2)\n",
    "for i in range(len(axes)):\n",
    "    axes[i].scatter(data[cols[i]][:50]/10,data['totalPrice'][:50]/100)\n",
    "    axes[i].set_xlabel(cols[i])\n",
    "axes[0].set_ylabel('totalPrice')\n",
    "plt.show()"
   ]
  },
  {
   "cell_type": "markdown",
   "metadata": {},
   "source": [
    "# 5、数据预处理"
   ]
  },
  {
   "cell_type": "code",
   "execution_count": 9,
   "metadata": {},
   "outputs": [
    {
     "name": "stdout",
     "output_type": "stream",
     "text": [
      "<class 'pandas.core.frame.DataFrame'>\n",
      "Int64Index: 159175 entries, 0 to 317030\n",
      "Data columns (total 13 columns):\n",
      " #   Column               Non-Null Count   Dtype  \n",
      "---  ------               --------------   -----  \n",
      " 0   Lng                  159175 non-null  float64\n",
      " 1   Lat                  159175 non-null  float64\n",
      " 2   totalPrice           159175 non-null  float64\n",
      " 3   price                159175 non-null  int64  \n",
      " 4   square               159175 non-null  float64\n",
      " 5   livingRoom           159175 non-null  object \n",
      " 6   drawingRoom          159175 non-null  object \n",
      " 7   kitchen              159175 non-null  int64  \n",
      " 8   bathRoom             159175 non-null  object \n",
      " 9   renovationCondition  159175 non-null  int64  \n",
      " 10  buildingStructure    159175 non-null  int64  \n",
      " 11  ladderRatio          159175 non-null  float64\n",
      " 12  district             159175 non-null  int64  \n",
      "dtypes: float64(5), int64(5), object(3)\n",
      "memory usage: 17.0+ MB\n"
     ]
    }
   ],
   "source": [
    "# 去除空值\n",
    "data = data.dropna(axis=0)\n",
    "# 去除不需要的列（特征）\n",
    "data_drop = data.drop(['url','id','Cid','tradeTime','DOM','followers','floor','constructionTime','elevator','fiveYearsProperty','subway','communityAverage'],1)\n",
    "data_drop.info()"
   ]
  },
  {
   "cell_type": "code",
   "execution_count": 10,
   "metadata": {},
   "outputs": [
    {
     "name": "stdout",
     "output_type": "stream",
     "text": [
      "<class 'pandas.core.frame.DataFrame'>\n",
      "Int64Index: 159175 entries, 0 to 317030\n",
      "Data columns (total 13 columns):\n",
      " #   Column               Non-Null Count   Dtype  \n",
      "---  ------               --------------   -----  \n",
      " 0   Lng                  159175 non-null  float64\n",
      " 1   Lat                  159175 non-null  float64\n",
      " 2   totalPrice           159175 non-null  float64\n",
      " 3   price                159175 non-null  int64  \n",
      " 4   square               159175 non-null  float64\n",
      " 5   livingRoom           159175 non-null  int64  \n",
      " 6   drawingRoom          159175 non-null  int64  \n",
      " 7   kitchen              159175 non-null  int64  \n",
      " 8   bathRoom             159175 non-null  int64  \n",
      " 9   renovationCondition  159175 non-null  int64  \n",
      " 10  buildingStructure    159175 non-null  int64  \n",
      " 11  ladderRatio          159175 non-null  float64\n",
      " 12  district             159175 non-null  int64  \n",
      "dtypes: float64(5), int64(8)\n",
      "memory usage: 17.0 MB\n"
     ]
    }
   ],
   "source": [
    "# 修改列的数据类型：object转成int64\n",
    "data_ct = data_drop.astype({'livingRoom':'int64','drawingRoom':'int64','drawingRoom':'int64','bathRoom':'int64'})\n",
    "data_ct.info()"
   ]
  },
  {
   "cell_type": "markdown",
   "metadata": {},
   "source": [
    "# 6、特征选择\n",
    "- 方差过滤法  \n",
    "这是通过特征本身的方差来筛选特征的类。比如一个特征本身的方差很小，就表示样本在这个特征上基本没有差\n",
    "异，可能特征中的大多数值都一样，甚至整个特征的取值都相同，那这个特征对于样本区分没有什么作用。\n",
    "- F检验过滤法    \n",
    "又称ANOVA，方差齐性检验，是用来捕捉每个特征与标签之间的线性关系的过滤方法。它即可以做回归也 可以做分类，因此包含feature_selection.f_classif（F检验分类）和feature_selection.f_regression（F检验回 归）两个类。其中F检验分类用于标签是离散型变量的数据，而F检验回归用于标签是连续型变量的数据。\n",
    "- 互信息法    \n",
    "互信息法是用来捕捉每个特征与标签之间的任意关系（包括线性和非线性关系）的过滤方法。\n",
    "- 嵌入法     \n",
    "是一种让算法自己决定使用哪些特征的方法，即特征选择和算法训练同时进行。在使用嵌入法时，我们先使\n",
    "用某些机器学习的算法和模型进行训练，得到各个特征的权值系数，根据权值系数从大到小选择特征。相比于过滤法，嵌入法的结果会更加精确到模型的效用本身，对于提高模型效力有更好的效果。并且，由于考虑特征对模型的贡献，因此无关的特征（需要相关性过滤的特征）和无区分度的特征（需要方差过滤的特征）都会因为\n",
    "缺乏对模型的贡献而被删除掉，可谓是过滤法的进化版。"
   ]
  },
  {
   "cell_type": "code",
   "execution_count": 11,
   "metadata": {},
   "outputs": [
    {
     "data": {
      "text/plain": [
       "((159175, 12), (159175,))"
      ]
     },
     "execution_count": 11,
     "metadata": {},
     "output_type": "execute_result"
    }
   ],
   "source": [
    "# 获取特征x和目标值y\n",
    "x = data_ct.loc[:,data_ct.columns != 'totalPrice']\n",
    "y = data_ct['totalPrice']\n",
    "x.shape,y.shape"
   ]
  },
  {
   "cell_type": "code",
   "execution_count": 12,
   "metadata": {},
   "outputs": [
    {
     "data": {
      "text/plain": [
       "(159175, 12)"
      ]
     },
     "execution_count": 12,
     "metadata": {},
     "output_type": "execute_result"
    }
   ],
   "source": [
    "# 特征选择：方差过滤法\n",
    "from sklearn.feature_selection import VarianceThreshold\n",
    "selector = VarianceThreshold(threshold=0)      # 实例化，不填参数默认方差为0\n",
    "x_var0 = selector.fit_transform(x)             # 获取删除不合格特征之后的新特征矩阵\n",
    "x_var0.shape"
   ]
  },
  {
   "cell_type": "code",
   "execution_count": 13,
   "metadata": {},
   "outputs": [
    {
     "name": "stdout",
     "output_type": "stream",
     "text": [
      "F的值为: [ 1.06380209  1.328411   29.13867378 21.21355889 10.52673479  6.20624386\n",
      "  4.41700921 11.79236329  3.59604581  2.24460031  0.04974335  1.11023682]\n",
      "P的值为: [1.24811093e-03 4.50794128e-47 0.00000000e+00 0.00000000e+00\n",
      " 0.00000000e+00 0.00000000e+00 0.00000000e+00 0.00000000e+00\n",
      " 0.00000000e+00 0.00000000e+00 1.00000000e+00 1.35419736e-07]\n"
     ]
    }
   ],
   "source": [
    "# 特征选择：F检验过滤法 \n",
    "from sklearn.feature_selection import f_classif\n",
    "F, pvalues_f = f_classif(x_var0,y)\n",
    "print('F的值为:',F)\n",
    "print('P的值为:',pvalues_f) # 假设是”数据不存在显著的线性关系，"
   ]
  },
  {
   "cell_type": "code",
   "execution_count": 14,
   "metadata": {},
   "outputs": [
    {
     "data": {
      "text/plain": [
       "11"
      ]
     },
     "execution_count": 14,
     "metadata": {},
     "output_type": "execute_result"
    }
   ],
   "source": [
    "# 我们希望选取p值小于0.05或0.01的特征，这些特征与标签时显著线性相关的，而p值大于0.05的特征则被我们认为是和标签没有显著线性关系的特征\n",
    "k = F.shape[0] - (pvalues_f > 0.05).sum() \n",
    "k"
   ]
  },
  {
   "cell_type": "code",
   "execution_count": 15,
   "metadata": {},
   "outputs": [
    {
     "data": {
      "text/plain": [
       "(159175, 11)"
      ]
     },
     "execution_count": 15,
     "metadata": {},
     "output_type": "execute_result"
    }
   ],
   "source": [
    "from sklearn.feature_selection import SelectKBest\n",
    "# F检验过滤后的x_f\n",
    "x_f = SelectKBest(f_classif, k=11).fit_transform(x, y)\n",
    "x_f.shape"
   ]
  },
  {
   "cell_type": "code",
   "execution_count": 16,
   "metadata": {},
   "outputs": [
    {
     "data": {
      "text/plain": [
       "12"
      ]
     },
     "execution_count": 16,
     "metadata": {},
     "output_type": "execute_result"
    }
   ],
   "source": [
    "# 特征选择：互信息法 \n",
    "from sklearn.feature_selection import mutual_info_classif as MIC\n",
    "# 返回“每个特征与目标之间的互信息量的估计”，这个估计量在[0,1]之间取值，为0则表示两个变量独立，为1则表示两个变量完全相关\n",
    "result = MIC(x_var0,y.astype('int64'))\n",
    "k = result.shape[0] - sum(result <= 0)\n",
    "k # 互信息法过滤后的特征个数"
   ]
  },
  {
   "cell_type": "code",
   "execution_count": 17,
   "metadata": {},
   "outputs": [
    {
     "data": {
      "text/plain": [
       "(159175, 2)"
      ]
     },
     "execution_count": 17,
     "metadata": {},
     "output_type": "execute_result"
    }
   ],
   "source": [
    "from sklearn.feature_selection import SelectFromModel\n",
    "from sklearn.linear_model import LinearRegression\n",
    "from sklearn.ensemble import RandomForestRegressor as RFR\n",
    "# 实例化随机森林回归模型\n",
    "RFR_ = RFR(n_estimators=10,random_state=0)\n",
    "# 特征选择：嵌入法\n",
    "X_embedded = SelectFromModel(RFR_,threshold=0.005).fit_transform(x,y)\n",
    "X_embedded.shape"
   ]
  },
  {
   "cell_type": "code",
   "execution_count": 18,
   "metadata": {},
   "outputs": [
    {
     "data": {
      "image/png": "[encoded data removed]",
      "text/plain": [
       "<Figure size 432x288 with 1 Axes>"
      ]
     },
     "metadata": {
      "needs_background": "light"
     },
     "output_type": "display_data"
    }
   ],
   "source": [
    "# 嵌入法超参数threshold的学习曲线\n",
    "from sklearn.model_selection import cross_val_score # 交叉验证\n",
    "threshold = np.linspace(0,(RFR_.fit(x_var0,y).feature_importances_).max(),20) # 定义超参数threshold取值数组\n",
    "score = []\n",
    "for i in threshold:\n",
    "    X_embedded = SelectFromModel(RFR_,threshold=i).fit_transform(x_var0,y)\n",
    "    once = cross_val_score(RFR_,X_embedded,y,cv=5,scoring='r2').mean()\n",
    "    score.append(once)\n",
    "plt.plot(threshold,score)\n",
    "plt.show()"
   ]
  },
  {
   "cell_type": "code",
   "execution_count": 19,
   "metadata": {},
   "outputs": [
    {
     "name": "stdout",
     "output_type": "stream",
     "text": [
      "(159175, 2)\n",
      "[False False  True  True False False False False False False False False]\n"
     ]
    }
   ],
   "source": [
    "# 根据超参数曲线，得到最佳的threshold，并使用嵌入法对数据降维\n",
    "selector = SelectFromModel(RFR_,threshold=0.1)\n",
    "X_embedded = selector.fit_transform(x_var0,y)\n",
    "print(X_embedded.shape) # 降维后的特征形状\n",
    "print(selector.get_support()) # 哪些特征被保留：True代表保留，False代表丢弃"
   ]
  },
  {
   "cell_type": "code",
   "execution_count": 20,
   "metadata": {},
   "outputs": [
    {
     "name": "stdout",
     "output_type": "stream",
     "text": [
      "Index(['price', 'square'], dtype='object')\n"
     ]
    }
   ],
   "source": [
    "# 选出来的两个最相关的特征的列名\n",
    "print(x.columns[selector.get_support()])"
   ]
  },
  {
   "cell_type": "code",
   "execution_count": 21,
   "metadata": {},
   "outputs": [
    {
     "data": {
      "text/plain": [
       "0.9818028593095441"
      ]
     },
     "execution_count": 21,
     "metadata": {},
     "output_type": "execute_result"
    }
   ],
   "source": [
    "# 5折交叉验证 \n",
    "cross_val_score(RFR_,X_embedded,y,cv=5,scoring = \"r2\").mean() # R2"
   ]
  },
  {
   "cell_type": "code",
   "execution_count": 22,
   "metadata": {},
   "outputs": [
    {
     "data": {
      "text/plain": [
       "-1.3392032668446685"
      ]
     },
     "execution_count": 22,
     "metadata": {},
     "output_type": "execute_result"
    }
   ],
   "source": [
    "# 5折交叉验证 \n",
    "cross_val_score(RFR_,X_embedded,y,cv=5,scoring = \"neg_mean_absolute_error\").mean() # 绝对均值误差"
   ]
  },
  {
   "cell_type": "markdown",
   "metadata": {},
   "source": [
    "# 7、划分数据集：训练集和测试集"
   ]
  },
  {
   "cell_type": "code",
   "execution_count": 23,
   "metadata": {},
   "outputs": [],
   "source": [
    "from sklearn.model_selection import train_test_split\n",
    "# 将嵌入法降维的特征X_embedded和目标值y划分为训练集和测试集\n",
    "X_train, X_test, y_train, y_test = train_test_split(X_embedded,y,test_size=0.3,random_state=22)"
   ]
  },
  {
   "cell_type": "markdown",
   "metadata": {},
   "source": [
    "# 8、随机森林回归模型拟合数据"
   ]
  },
  {
   "cell_type": "code",
   "execution_count": 24,
   "metadata": {},
   "outputs": [
    {
     "data": {
      "text/plain": [
       "RandomForestRegressor(random_state=0)"
      ]
     },
     "execution_count": 24,
     "metadata": {},
     "output_type": "execute_result"
    }
   ],
   "source": [
    "RFR_ = RFR(n_estimators=100,random_state=0) # 实例化模型\n",
    "RFR_.fit(X_train,y_train)  # 模型拟合数据"
   ]
  },
  {
   "cell_type": "markdown",
   "metadata": {},
   "source": [
    "# 9、画出预测值和真实值的折线图"
   ]
  },
  {
   "cell_type": "code",
   "execution_count": 25,
   "metadata": {},
   "outputs": [
    {
     "data": {
      "text/html": [
       "<div>\n",
       "<style scoped>\n",
       "    .dataframe tbody tr th:only-of-type {\n",
       "        vertical-align: middle;\n",
       "    }\n",
       "\n",
       "    .dataframe tbody tr th {\n",
       "        vertical-align: top;\n",
       "    }\n",
       "\n",
       "    .dataframe thead th {\n",
       "        text-align: right;\n",
       "    }\n",
       "</style>\n",
       "<table border=\"1\" class=\"dataframe\">\n",
       "  <thead>\n",
       "    <tr style=\"text-align: right;\">\n",
       "      <th></th>\n",
       "      <th>pred</th>\n",
       "      <th>label</th>\n",
       "    </tr>\n",
       "  </thead>\n",
       "  <tbody>\n",
       "    <tr>\n",
       "      <th>0</th>\n",
       "      <td>335.121</td>\n",
       "      <td>335.0</td>\n",
       "    </tr>\n",
       "    <tr>\n",
       "      <th>1</th>\n",
       "      <td>182.318</td>\n",
       "      <td>182.0</td>\n",
       "    </tr>\n",
       "    <tr>\n",
       "      <th>2</th>\n",
       "      <td>356.983</td>\n",
       "      <td>357.0</td>\n",
       "    </tr>\n",
       "    <tr>\n",
       "      <th>3</th>\n",
       "      <td>329.811</td>\n",
       "      <td>330.0</td>\n",
       "    </tr>\n",
       "    <tr>\n",
       "      <th>4</th>\n",
       "      <td>255.033</td>\n",
       "      <td>255.0</td>\n",
       "    </tr>\n",
       "    <tr>\n",
       "      <th>5</th>\n",
       "      <td>144.675</td>\n",
       "      <td>144.5</td>\n",
       "    </tr>\n",
       "    <tr>\n",
       "      <th>6</th>\n",
       "      <td>186.749</td>\n",
       "      <td>186.0</td>\n",
       "    </tr>\n",
       "    <tr>\n",
       "      <th>7</th>\n",
       "      <td>944.620</td>\n",
       "      <td>945.0</td>\n",
       "    </tr>\n",
       "    <tr>\n",
       "      <th>8</th>\n",
       "      <td>184.753</td>\n",
       "      <td>184.5</td>\n",
       "    </tr>\n",
       "    <tr>\n",
       "      <th>9</th>\n",
       "      <td>219.005</td>\n",
       "      <td>219.0</td>\n",
       "    </tr>\n",
       "  </tbody>\n",
       "</table>\n",
       "</div>"
      ],
      "text/plain": [
       "      pred  label\n",
       "0  335.121  335.0\n",
       "1  182.318  182.0\n",
       "2  356.983  357.0\n",
       "3  329.811  330.0\n",
       "4  255.033  255.0\n",
       "5  144.675  144.5\n",
       "6  186.749  186.0\n",
       "7  944.620  945.0\n",
       "8  184.753  184.5\n",
       "9  219.005  219.0"
      ]
     },
     "execution_count": 25,
     "metadata": {},
     "output_type": "execute_result"
    }
   ],
   "source": [
    "pred = RFR_.predict(X_test) # 在测试集上得到回归预测数据\n",
    "# 将回归预测值和真实值输出\n",
    "res = pd.concat([pd.Series(pred,name='pred'),pd.Series(y_test.to_numpy(),name='label')],axis=1)\n",
    "res.head(10)"
   ]
  },
  {
   "cell_type": "code",
   "execution_count": 26,
   "metadata": {},
   "outputs": [
    {
     "data": {
      "image/png": "[encoded data removed]",
      "text/plain": [
       "<Figure size 432x288 with 1 Axes>"
      ]
     },
     "metadata": {
      "needs_background": "light"
     },
     "output_type": "display_data"
    }
   ],
   "source": [
    "# 显示随机随林回归模型在测试集上的拟合结果\n",
    "plt.plot(range(len(y_test)),sorted(y_test),c=\"black\",label= \"label\")\n",
    "plt.plot(range(len(pred)),sorted(pred),c=\"red\",label = \"Predict\")\n",
    "plt.legend()\n",
    "plt.show()"
   ]
  },
  {
   "cell_type": "markdown",
   "metadata": {},
   "source": [
    "上图说明模型前大部分拟合的很好，后面一点点没有很好的拟合，大部分的均方误差来源于后面一小部分。   \n",
    "结论：房价的总价格(totalPrice)主要受每平方米价格(price)和房子面积(square)影响。"
   ]
  },
  {
   "cell_type": "markdown",
   "metadata": {},
   "source": [
    "# 10、使用多元线性回归求解方程"
   ]
  },
  {
   "cell_type": "code",
   "execution_count": 27,
   "metadata": {},
   "outputs": [],
   "source": [
    "from sklearn.linear_model import LinearRegression\n",
    "lr = LinearRegression()\n",
    "lr.fit(X_train,y_train)\n",
    "lr_pred = lr.predict(X_test)"
   ]
  },
  {
   "cell_type": "code",
   "execution_count": 30,
   "metadata": {
    "collapsed": true,
    "jupyter": {
     "outputs_hidden": true
    }
   },
   "outputs": [
    {
     "data": {
      "text/html": [
       "<div>\n",
       "<style scoped>\n",
       "    .dataframe tbody tr th:only-of-type {\n",
       "        vertical-align: middle;\n",
       "    }\n",
       "\n",
       "    .dataframe tbody tr th {\n",
       "        vertical-align: top;\n",
       "    }\n",
       "\n",
       "    .dataframe thead th {\n",
       "        text-align: right;\n",
       "    }\n",
       "</style>\n",
       "<table border=\"1\" class=\"dataframe\">\n",
       "  <thead>\n",
       "    <tr style=\"text-align: right;\">\n",
       "      <th></th>\n",
       "      <th>pred</th>\n",
       "      <th>label</th>\n",
       "    </tr>\n",
       "  </thead>\n",
       "  <tbody>\n",
       "    <tr>\n",
       "      <th>0</th>\n",
       "      <td>317.438608</td>\n",
       "      <td>335.0</td>\n",
       "    </tr>\n",
       "    <tr>\n",
       "      <th>1</th>\n",
       "      <td>148.828350</td>\n",
       "      <td>182.0</td>\n",
       "    </tr>\n",
       "    <tr>\n",
       "      <th>2</th>\n",
       "      <td>351.704880</td>\n",
       "      <td>357.0</td>\n",
       "    </tr>\n",
       "    <tr>\n",
       "      <th>3</th>\n",
       "      <td>320.301878</td>\n",
       "      <td>330.0</td>\n",
       "    </tr>\n",
       "    <tr>\n",
       "      <th>4</th>\n",
       "      <td>254.965651</td>\n",
       "      <td>255.0</td>\n",
       "    </tr>\n",
       "    <tr>\n",
       "      <th>5</th>\n",
       "      <td>78.157088</td>\n",
       "      <td>144.5</td>\n",
       "    </tr>\n",
       "    <tr>\n",
       "      <th>6</th>\n",
       "      <td>132.624707</td>\n",
       "      <td>186.0</td>\n",
       "    </tr>\n",
       "    <tr>\n",
       "      <th>7</th>\n",
       "      <td>824.288486</td>\n",
       "      <td>945.0</td>\n",
       "    </tr>\n",
       "    <tr>\n",
       "      <th>8</th>\n",
       "      <td>137.698770</td>\n",
       "      <td>184.5</td>\n",
       "    </tr>\n",
       "    <tr>\n",
       "      <th>9</th>\n",
       "      <td>180.029005</td>\n",
       "      <td>219.0</td>\n",
       "    </tr>\n",
       "  </tbody>\n",
       "</table>\n",
       "</div>"
      ],
      "text/plain": [
       "         pred  label\n",
       "0  317.438608  335.0\n",
       "1  148.828350  182.0\n",
       "2  351.704880  357.0\n",
       "3  320.301878  330.0\n",
       "4  254.965651  255.0\n",
       "5   78.157088  144.5\n",
       "6  132.624707  186.0\n",
       "7  824.288486  945.0\n",
       "8  137.698770  184.5\n",
       "9  180.029005  219.0"
      ]
     },
     "execution_count": 30,
     "metadata": {},
     "output_type": "execute_result"
    }
   ],
   "source": [
    "lr_res = pd.concat([pd.Series(lr_pred,name='pred'),pd.Series(y_test.to_numpy(),name='label')],axis=1)\n",
    "lr_res.head(10)"
   ]
  },
  {
   "cell_type": "code",
   "execution_count": 31,
   "metadata": {},
   "outputs": [
    {
     "data": {
      "image/png": "[encoded data removed]",
      "text/plain": [
       "<Figure size 432x288 with 1 Axes>"
      ]
     },
     "metadata": {
      "needs_background": "light"
     },
     "output_type": "display_data"
    }
   ],
   "source": [
    "# 显示线性回归模型在测试集上的拟合结果\n",
    "plt.plot(range(len(y_test)),sorted(y_test),c=\"black\",label= \"label\")\n",
    "plt.plot(range(len(lr_pred)),sorted(lr_pred),c=\"red\",label = \"Predict\")\n",
    "plt.legend()\n",
    "plt.show()"
   ]
  },
  {
   "cell_type": "code",
   "execution_count": 35,
   "metadata": {},
   "outputs": [
    {
     "name": "stdout",
     "output_type": "stream",
     "text": [
      "线性回归模型参数: [0.00786056 5.00451717]\n",
      "线性回归模型截距: -409.00760080489505\n"
     ]
    }
   ],
   "source": [
    "print('线性回归模型参数:',lr.coef_)\n",
    "print('线性回归模型截距:',lr.intercept_)"
   ]
  },
  {
   "cell_type": "markdown",
   "metadata": {},
   "source": [
    "线性回归和随机森林回归模型结果差不多，可求得线性回归方程为：y = 0.00786056* x1 + 5.00451717 * x2 - 409.00760080489505"
   ]
  },
  {
   "cell_type": "code",
   "execution_count": null,
   "metadata": {},
   "outputs": [],
   "source": []
  }
 ],
 "metadata": {
  "kernelspec": {
   "display_name": "Python 3",
   "language": "python",
   "name": "python3"
  },
  "language_info": {
   "codemirror_mode": {
    "name": "ipython",
    "version": 3
   },
   "file_extension": ".py",
   "mimetype": "text/x-python",
   "name": "python",
   "nbconvert_exporter": "python",
   "pygments_lexer": "ipython3",
   "version": "3.8.3"
  }
 },
 "nbformat": 4,
 "nbformat_minor": 4
}
